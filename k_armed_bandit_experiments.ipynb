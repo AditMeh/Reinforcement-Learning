{
  "nbformat": 4,
  "nbformat_minor": 0,
  "metadata": {
    "colab": {
      "name": "k-armed bandit experiments",
      "provenance": [],
      "collapsed_sections": [],
      "authorship_tag": "ABX9TyMRsiQ+Wtx6wAXs8ptAPuPQ",
      "include_colab_link": true
    },
    "kernelspec": {
      "name": "python3",
      "display_name": "Python 3"
    }
  },
  "cells": [
    {
      "cell_type": "markdown",
      "metadata": {
        "id": "view-in-github",
        "colab_type": "text"
      },
      "source": [
        "<a href=\"https://colab.research.google.com/github/AditMeh/Reinforcement-Learning/blob/main/k_armed_bandit_experiments.ipynb\" target=\"_parent\"><img src=\"https://colab.research.google.com/assets/colab-badge.svg\" alt=\"Open In Colab\"/></a>"
      ]
    },
    {
      "cell_type": "markdown",
      "metadata": {
        "id": "lfA6aPDwRIGI"
      },
      "source": [
        "This notebook is to test out the various k-armed bandit methods presented in sutton and barto chapter 2 on a size k testbed"
      ]
    },
    {
      "cell_type": "code",
      "metadata": {
        "id": "nVnrZiMw77pr"
      },
      "source": [
        "import numpy as np\r\n",
        "\r\n",
        "class TestBed():\r\n",
        "    def __init__(self, k, var):\r\n",
        "        self.testbed = {}\r\n",
        "\r\n",
        "        for q_star in range(k):\r\n",
        "            self.testbed[q_star] = np.random.normal(loc = 0, scale=var, size = 1)[0]\r\n",
        "    \r\n",
        "    def compute_reward(self, action):\r\n",
        "        return np.random.normal(self.testbed[action], 1, 1)[0]\r\n",
        "\r\n",
        "\r\n",
        "class Bandit():\r\n",
        "    def __init__(self, k, epsilon):\r\n",
        "        self.action_values = {i: 0 for i in range(k)}\r\n",
        "        self.epsilon = epsilon\r\n",
        "        self.k = k\r\n",
        "        self.num_action = {i: 0 for i in range(k)}\r\n",
        "\r\n",
        "    def select_action(self):\r\n",
        "        decision = np.random.randint(0, 101, 1)\r\n",
        "\r\n",
        "        # Greedily select action\r\n",
        "        if decision > 100*self.epsilon:\r\n",
        "            action_space = np.asarray([self.action_values[i] for i in range(self.k)])\r\n",
        "            action = np.random.choice(np.flatnonzero(action_space == action_space.max()))\r\n",
        "            self.num_action[action] += 1\r\n",
        "        # Randomly select action (exploration)\r\n",
        "        else:\r\n",
        "            action = np.random.choice([i for i in range(self.k)], 1)[0]\r\n",
        "            self.num_action[action] += 1\r\n",
        "\r\n",
        "        return action\r\n",
        "\r\n",
        "    def update_action_values(self, reward, action):\r\n",
        "        self.action_values[action] = self.action_values[action] + (1/self.num_action[action])*(reward - self.action_values[action])"
      ],
      "execution_count": 199,
      "outputs": []
    },
    {
      "cell_type": "code",
      "metadata": {
        "id": "rbv0yFEW9D84"
      },
      "source": [
        "def run_experiment(steps, k, epsilon, runs):\r\n",
        "\r\n",
        "    reward_list = [[0] for _ in range(runs)]\r\n",
        "    for j in range(runs):\r\n",
        "        testbed = TestBed(k, 1)\r\n",
        "        bandit = Bandit(k, epsilon)\r\n",
        "\r\n",
        "        for i in range(steps):\r\n",
        "            action = bandit.select_action()\r\n",
        "            reward = testbed.compute_reward(action)\r\n",
        "            reward_list[j].append(reward)\r\n",
        "            bandit.update_action_values(reward, action)\r\n",
        "    return [(sum([reward_list[i][k] for i in range(steps)])/runs) for k in range(steps)]\r\n",
        "\r\n",
        "reward_list = run_experiment(2000, 10, 0.50, 2000)\r\n",
        "\r\n"
      ],
      "execution_count": 202,
      "outputs": []
    },
    {
      "cell_type": "code",
      "metadata": {
        "colab": {
          "base_uri": "https://localhost:8080/",
          "height": 296
        },
        "id": "SnyhBkN9e0qJ",
        "outputId": "7bd04dbd-1096-45e9-f8e9-180cee921582"
      },
      "source": [
        "%matplotlib\r\n",
        "import matplotlib.pyplot as plt\r\n",
        "plt.scatter(list(range(2000)), reward_list)\r\n",
        "plt.xlabel(\"Runs\")\r\n",
        "plt.ylabel(\"Average Reward\")\r\n",
        "plt.show()"
      ],
      "execution_count": 210,
      "outputs": [
        {
          "output_type": "stream",
          "text": [
            "Using matplotlib backend: agg\n"
          ],
          "name": "stdout"
        },
        {
          "output_type": "display_data",
          "data": {
            "image/png": "[encoded data removed]",
            "text/plain": [
              "<Figure size 432x288 with 1 Axes>"
            ]
          },
          "metadata": {
            "tags": [],
            "needs_background": "light"
          }
        }
      ]
    }
  ]
}